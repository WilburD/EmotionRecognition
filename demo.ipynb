{
 "cells": [
  {
   "cell_type": "code",
   "execution_count": 1,
   "metadata": {},
   "outputs": [],
   "source": [
    "import sys\n",
    "import numpy as np\n",
    "import matplotlib.pyplot as plt\n",
    "import pylab as pyl\n",
    "import cv2 as cv\n",
    "import os\n",
    "import glob\n",
    "os.environ['GLOG_minloglevel'] = '3'\n",
    "import config as cfg\n",
    "import time"
   ]
  },
  {
   "cell_type": "code",
   "execution_count": 6,
   "metadata": {
    "collapsed": true
   },
   "outputs": [],
   "source": [
    "sys.path.append('/home/afromero/caffe-master/python')\n",
    "from preparing_blobs import get_blobs\n",
    "import caffe\n",
    "\n",
    "#Comment if no GPU\n",
    "caffe.set_device(3)\n",
    "caffe.set_mode_gpu()"
   ]
  },
  {
   "cell_type": "code",
   "execution_count": 7,
   "metadata": {
    "collapsed": true
   },
   "outputs": [],
   "source": [
    "category = cfg.category\n",
    "category = sorted(category, key=category.get)\n",
    "    \n",
    "def plot_images_prediction(img_, pred, confidence, file_save=\"\"):\n",
    "  img = img_.astype(np.uint8, copy=True)[:,:,(2,1,0)]\n",
    "  predicted = 'Predicted Emotion: '+ category[pred]+ '\\nConfidence: '+str(np.max(confidence))[:4]+'%'\n",
    "  plt.title(predicted)\n",
    "  plt.imshow(img)\n",
    "  plt.axis('off')\n",
    "  if file_save!=\"\": pyl.savefig(file_save, dpi=100)\t\n",
    "  plt.show()\n",
    "    \n",
    "def test(net, img_file, file_save=\"\"):\n",
    "  t = time.time()\n",
    "  img = cv.imread(img_file)\n",
    "  img_blob, label_blob = get_blobs(img, 0)\n",
    "\n",
    "  net.blobs['data'].data[...] = img_blob\n",
    "  net.forward()\n",
    "  elapsed = time.time() - t\n",
    "  #print \"elapsed time \"+str(elapsed)\n",
    "  confidence = net.blobs['softmax'].data[0]\n",
    "  confidence = [float(\"%.2f\"%(n*100)) for n in confidence]\n",
    "  max_label = np.where(np.array(confidence) == np.max(confidence))[0][0]\n",
    "  plot_images_prediction(img, max_label, confidence, file_save)"
   ]
  },
  {
   "cell_type": "code",
   "execution_count": null,
   "metadata": {
    "collapsed": true
   },
   "outputs": [],
   "source": [
    "modeldef    = './model/VGG_Emotions_16_layers_deploy.prototxt'\n",
    "modelweight = './model/VGG_Emotions.caffemodel'\n",
    "\n",
    "net = caffe.Net(modeldef, modelweight, caffe.TEST)#VGG model for 16 layers"
   ]
  },
  {
   "cell_type": "code",
   "execution_count": null,
   "metadata": {
    "collapsed": true
   },
   "outputs": [],
   "source": [
    "#look for all jpg images\n",
    "for img_file in glob.glob('imgs/*.jpg'):\n",
    "  test(net, img_file)   "
   ]
  },
  {
   "cell_type": "code",
   "execution_count": null,
   "metadata": {
    "collapsed": true
   },
   "outputs": [],
   "source": [
    "#Look for all png images\n",
    "for img_file in glob.glob('imgs/*.png'):\n",
    "  test(net, img_file) "
   ]
  }
 ],
 "metadata": {
  "kernelspec": {
   "display_name": "Python 2",
   "language": "python",
   "name": "python2"
  },
  "language_info": {
   "codemirror_mode": {
    "name": "ipython",
    "version": 2
   },
   "file_extension": ".py",
   "mimetype": "text/x-python",
   "name": "python",
   "nbconvert_exporter": "python",
   "pygments_lexer": "ipython2",
   "version": "2.7.12"
  }
 },
 "nbformat": 4,
 "nbformat_minor": 2
}
